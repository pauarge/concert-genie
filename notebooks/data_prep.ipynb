{
 "cells": [
  {
   "cell_type": "code",
   "execution_count": null,
   "metadata": {},
   "outputs": [],
   "source": [
    "import requests\n",
    "import pandas as pd\n",
    "import networkx as nx\n",
    "import numpy as np\n",
    "\n",
    "import pandas as pd\n",
    "import numpy as np\n",
    "import spotipy\n",
    "import spotipy.util as util\n",
    "import spotipy.oauth2 as oauth2\n",
    "from spotipy.oauth2 import SpotifyClientCredentials #To access authorised Spotify data\n",
    "\n",
    "import time\n",
    "import random\n",
    "\n",
    "import matplotlib\n",
    "import matplotlib.pyplot as plt"
   ]
  },
  {
   "cell_type": "code",
   "execution_count": null,
   "metadata": {},
   "outputs": [],
   "source": [
    "ARTIST = \"Adele\""
   ]
  },
  {
   "cell_type": "markdown",
   "metadata": {},
   "source": [
    "### API keys and main parameters"
   ]
  },
  {
   "cell_type": "markdown",
   "metadata": {},
   "source": [
    "SetList.fm"
   ]
  },
  {
   "cell_type": "code",
   "execution_count": null,
   "metadata": {},
   "outputs": [],
   "source": [
    "API_KEY = \"ad30e075-cc83-41c3-8708-dfb5625a2330\"\n",
    "\n",
    "BASE_URL = \"https://api.setlist.fm/rest/1.0\"\n",
    "MIN_SETLIST_LEN = 5\n",
    "NUM_OF_PAGES = 6"
   ]
  },
  {
   "cell_type": "markdown",
   "metadata": {},
   "source": [
    "Spotify"
   ]
  },
  {
   "cell_type": "code",
   "execution_count": null,
   "metadata": {},
   "outputs": [],
   "source": [
    "client_id = '1f9afb3cf4f444d3b3a2f9d3bf20a4dc'\n",
    "client_secret = '12f145a677b54fe6b6b05c52dcbd433b'\n",
    "client_credentials_manager = SpotifyClientCredentials(client_id=client_id, client_secret=client_secret)\n",
    "sp = spotipy.Spotify(client_credentials_manager=client_credentials_manager) #spotify object to access API"
   ]
  },
  {
   "cell_type": "markdown",
   "metadata": {},
   "source": [
    "## SPOTIFY FUNCTIONS"
   ]
  },
  {
   "cell_type": "code",
   "execution_count": null,
   "metadata": {},
   "outputs": [],
   "source": [
    "def get_albums_info(sp_albums):\n",
    "    album_names = []\n",
    "    album_uris = []\n",
    "    for i in range(len(sp_albums['items'])):\n",
    "        album_names.append(sp_albums['items'][i]['name'])\n",
    "        album_uris.append(sp_albums['items'][i]['uri'])\n",
    "    return album_names, album_uris"
   ]
  },
  {
   "cell_type": "code",
   "execution_count": null,
   "metadata": {},
   "outputs": [],
   "source": [
    "def albumSongs(uri, name, spotify_albums):\n",
    "    album = uri #assign album uri to a_name\n",
    "    spotify_albums[album] = {} #Creates dictionary for that specific album\n",
    "    #Create keys-values of empty lists inside nested dictionary for album\n",
    "    spotify_albums[album]['album'] = [] #create empty list\n",
    "    spotify_albums[album]['track_number'] = []\n",
    "    spotify_albums[album]['id'] = []\n",
    "    spotify_albums[album]['name'] = []\n",
    "    spotify_albums[album]['uri'] = []\n",
    "    tracks = sp.album_tracks(album) #pull data on album tracks\n",
    "    for n in range(len(tracks['items'])): #for each song track\n",
    "            spotify_albums[album]['album'].append(name) #append album name tracked via album_count\n",
    "            spotify_albums[album]['track_number'].append(tracks['items'][n]['track_number'])\n",
    "            spotify_albums[album]['id'].append(tracks['items'][n]['id'])\n",
    "            spotify_albums[album]['name'].append(tracks['items'][n]['name'])\n",
    "            spotify_albums[album]['uri'].append(tracks['items'][n]['uri'])\n",
    "    return spotify_albums"
   ]
  },
  {
   "cell_type": "code",
   "execution_count": null,
   "metadata": {},
   "outputs": [],
   "source": [
    "def get_artist_info(NAME):\n",
    "    result = sp.search(NAME) #search query\n",
    "    #Extract Artist's uri\n",
    "    artist_uri = [x['uri'] for x in result['tracks']['items'][0]['artists'] if x['name'].lower() == NAME.lower()][0]\n",
    "\n",
    "    #Pull all of the artist's albums\n",
    "    sp_albums = sp.artist_albums(artist_uri, album_type='album')\n",
    "    album_names, album_uris = get_albums_info(sp_albums)\n",
    "\n",
    "    spotify_albums = {}\n",
    "    album_count = 0\n",
    "    checked_albs = []\n",
    "    for i, name in zip(album_uris, album_names): #each album\n",
    "        if name not in checked_albs:\n",
    "            checked_albs.append(name)\n",
    "            spotify_albums = albumSongs(i, name, spotify_albums)\n",
    "            album_count+=1 #Updates album count once all tracks have been addedb\n",
    "  \n",
    "    return spotify_albums"
   ]
  },
  {
   "cell_type": "code",
   "execution_count": null,
   "metadata": {},
   "outputs": [],
   "source": [
    "def audio_features(album):\n",
    "    #Add new key-values to store audio features\n",
    "    spotify_albums[album]['popularity'] = []\n",
    "    #create a track counter\n",
    "    track_count = 0\n",
    "    for track in spotify_albums[album]['uri']:\n",
    "        #pull audio features per track\n",
    "        features = sp.audio_features(track)\n",
    "        pop = sp.track(track)\n",
    "        spotify_albums[album]['popularity'].append(pop['popularity'])\n",
    "        track_count+=1"
   ]
  },
  {
   "cell_type": "code",
   "execution_count": null,
   "metadata": {},
   "outputs": [],
   "source": [
    "def info_pd(spotify_albums):\n",
    "    sleep_min = 2\n",
    "    sleep_max = 5\n",
    "    start_time = time.time()\n",
    "    request_count = 0\n",
    "\n",
    "\n",
    "    for i in spotify_albums:\n",
    "        audio_features(i)\n",
    "        request_count+=1\n",
    "        if request_count % 5 == 0:\n",
    "            print(str(request_count) + \" playlists completed\")\n",
    "            time.sleep(np.random.uniform(sleep_min, sleep_max))\n",
    "    dic_df = {}\n",
    "    dic_df['album'] = []\n",
    "    dic_df['track_number'] = []\n",
    "    dic_df['id'] = []\n",
    "    dic_df['name'] = []\n",
    "    dic_df['uri'] = []\n",
    "    dic_df['popularity'] = []\n",
    "    for album in spotify_albums: \n",
    "        for feature in dic_df.keys():\n",
    "            dic_df[feature].extend(spotify_albums[album][feature])\n",
    "\n",
    "    return pd.DataFrame.from_dict(dic_df)"
   ]
  },
  {
   "cell_type": "code",
   "execution_count": null,
   "metadata": {},
   "outputs": [],
   "source": []
  },
  {
   "cell_type": "markdown",
   "metadata": {},
   "source": [
    "## CONCERT INFO FUNCTIONS"
   ]
  },
  {
   "cell_type": "code",
   "execution_count": null,
   "metadata": {},
   "outputs": [],
   "source": [
    "def get_setlist_songs(ARTIST, BASE_URL, API_KEY):\n",
    "    artist_url = \"{}/search/artists/?sort=relevance&artistName={}\".format(BASE_URL, ARTIST)\n",
    "    headers = {'x-api-key': API_KEY, 'Accept': 'application/json'}\n",
    "    r = requests.get(artist_url, headers=headers)\n",
    "    artists = r.json().get('artist')\n",
    "    artist = artists[0]\n",
    "    \n",
    "    responses = []\n",
    "    for i in range(1, NUM_OF_PAGES): \n",
    "        playlist_url = \"{}/artist/{}/setlists/?p={}\".format(BASE_URL, artist.get('mbid'), i)\n",
    "        r = requests.get(playlist_url, headers=headers)\n",
    "        responses.append(r.json())\n",
    "        \n",
    "    responses_setlist = map(lambda x: x.get('setlist'), responses)\n",
    "    flattened_setlists = [item for sublist in responses_setlist for item in sublist if 'tour' in item.keys()]\n",
    "    cleaned_setlists = list(map(lambda x: {\n",
    "        'eventDate': x.get('eventDate'), \n",
    "        'songs': list(map(lambda z: z.get('name'), [item for sublist in map(lambda y: y.get('song'), x.get('sets').get('set')) for item in sublist])), \n",
    "        'tour': x.get('tour').get('name'),\n",
    "        'country': x.get('venue').get('city').get('country').get('code')\n",
    "        }, flattened_setlists))\n",
    "    cleaned_setlists = [x for x in cleaned_setlists if 'songs' in x.keys()]\n",
    "    cleaned_setlists = [x for x in cleaned_setlists if len(x['songs']) > 5]\n",
    "    only_songs = list(map(lambda x: [\"begin\"] + x.get('songs') + [\"end\"], cleaned_setlists))\n",
    "    \n",
    "    return cleaned_setlists, only_songs"
   ]
  },
  {
   "cell_type": "code",
   "execution_count": null,
   "metadata": {},
   "outputs": [],
   "source": [
    "def song_list_to_df(ARTIST, BASE_URL, API_KEY):\n",
    "    cleaned_list, songs = get_setlist_songs(ARTIST, BASE_URL, API_KEY)\n",
    "    pairs = []\n",
    "    for concert in cleaned_list:\n",
    "        setlist = concert['songs']\n",
    "        setlist = ['begin'] + setlist + ['end']\n",
    "        for i in range(len(setlist) - 1):\n",
    "            pairs.append((setlist[i], setlist[i+1], concert['tour'], concert['country'], concert['eventDate']))\n",
    "\n",
    "    df_pairs = pd.DataFrame(pairs)\n",
    "\n",
    "    df_pairs = df_pairs.rename(columns={0:'song_org', 1:'next_song', 2:'tour', 3:'country', 4:'date'})\n",
    "    the_tour = df_pairs.sort_values(by=['date']).iloc[0]['tour']\n",
    "    df_pairs2 = df_pairs[df_pairs.tour == the_tour]\n",
    "    \n",
    "    length_concert = df_pairs.groupby('date').count().median()['song_org']\n",
    "    b = df_pairs2.groupby('date').count()\n",
    "    dates = b[(b.song_org < length_concert + 1) & (b.song_org > length_concert - 1) ].index\n",
    "    \n",
    "    df_pairs2 = df_pairs2[df_pairs.date.isin(dates)].groupby(['song_org', 'next_song']).size().reset_index().rename(columns={0:'weight'})\n",
    "    \n",
    "    return df_pairs, df_pairs2"
   ]
  },
  {
   "cell_type": "markdown",
   "metadata": {},
   "source": [
    "### GET CONCERT INFO"
   ]
  },
  {
   "cell_type": "code",
   "execution_count": null,
   "metadata": {},
   "outputs": [],
   "source": [
    "info_complete, df_pairs = song_list_to_df(ARTIST, BASE_URL, API_KEY)"
   ]
  },
  {
   "cell_type": "markdown",
   "metadata": {},
   "source": [
    "### GET SPOTIFY INFO"
   ]
  },
  {
   "cell_type": "code",
   "execution_count": null,
   "metadata": {},
   "outputs": [],
   "source": [
    "spotify_albums = get_artist_info(ARTIST)\n",
    "pd_artist = info_pd(spotify_albums)"
   ]
  },
  {
   "cell_type": "code",
   "execution_count": null,
   "metadata": {},
   "outputs": [],
   "source": [
    "df_pairs[df_pairs.song_org == 'begin'].sort_values(by=['weight'])"
   ]
  },
  {
   "cell_type": "markdown",
   "metadata": {},
   "source": [
    "## CREATE GRAPH AND GET PLAYLIST"
   ]
  },
  {
   "cell_type": "code",
   "execution_count": null,
   "metadata": {},
   "outputs": [],
   "source": [
    "G = nx.from_pandas_edgelist(df_pairs, 'song_org', 'next_song', ['weight'], create_using=nx.DiGraph())"
   ]
  },
  {
   "cell_type": "code",
   "execution_count": null,
   "metadata": {},
   "outputs": [],
   "source": [
    "def get_playlist(G, source='begin', target='end'):\n",
    "    visited = []\n",
    "    cur = source\n",
    "\n",
    "    while cur != target:\n",
    "        visited.append(cur)\n",
    "        weights = []\n",
    "        neighs = []\n",
    "        for n in G.neighbors(cur):\n",
    "            if n not in visited:\n",
    "                weights.append(G.get_edge_data(cur, n).get('weight'))\n",
    "                neighs.append(n)\n",
    "        weights = np.asarray(weights)/sum(weights)\n",
    "        if len(weights) == 0:\n",
    "            cur = target\n",
    "        else:\n",
    "            cur = np.random.choice(neighs, 1,\n",
    "                      p=weights)[0]\n",
    "        \n",
    "        print(cur)\n",
    "    return visited"
   ]
  },
  {
   "cell_type": "code",
   "execution_count": null,
   "metadata": {},
   "outputs": [],
   "source": [
    "playlist_go = get_playlist(G)"
   ]
  },
  {
   "cell_type": "markdown",
   "metadata": {},
   "source": [
    "## VISUALIZE RESULTS"
   ]
  },
  {
   "cell_type": "code",
   "execution_count": null,
   "metadata": {},
   "outputs": [],
   "source": [
    "def visualize(G):\n",
    "\n",
    "    all_weights = []\n",
    "\n",
    "    f, ax = plt.subplots(figsize=(20,20))\n",
    "    pos=nx.circular_layout(G)\n",
    "    pos_higher = {}\n",
    "    for k, v in pos.items():\n",
    "        pos_higher[k] = (v[0]*1.1, v[1]*1.1)\n",
    "\n",
    "    nx.draw_networkx_nodes(G.nodes, pos=pos)\n",
    "    nx.draw_networkx_labels(G, pos=pos_higher)\n",
    "    colors = ['r', 'b', 'y']\n",
    "    edges_1 = []\n",
    "    edges_2 = []\n",
    "    for i in range(len(playlist_go) - 1):\n",
    "        edges_1.append((playlist_go[i], playlist_go[i+1]))\n",
    "\n",
    "    for (node1,node2,data) in G.edges(data=True):\n",
    "        all_weights.append(data['weight'])\n",
    "\n",
    "    unique_weights = list(set(all_weights))\n",
    "\n",
    "    # plot edges with weighted widths\n",
    "    for weight in unique_weights:\n",
    "        #Form a filtered list with just the weight you want to draw\n",
    "        weighted_edges = [(node1,node2) for (node1,node2,edge_attr) in G.edges(data=True) if edge_attr['weight']==weight]\n",
    "        width = weight*0.1\n",
    "        nx.draw_networkx_edges(G,pos,edgelist=weighted_edges,width=width, edge_color='k', ax=ax)\n",
    "\n",
    "    # plot Playlist path\n",
    "    for ctr, edges_l in enumerate([edges_1]):\n",
    "        nx.draw_networkx_edges(G,pos=pos, edgelist=edges_l, edge_color = colors[ctr], style='dashed', ax=ax, width=4, alpha=0.5)\n",
    "\n",
    "\n",
    "    plt.savefig('graph_song_{}'.format(artist))"
   ]
  }
 ],
 "metadata": {
  "kernelspec": {
   "display_name": "Python [conda env:ada] *",
   "language": "python",
   "name": "conda-env-ada-py"
  },
  "language_info": {
   "codemirror_mode": {
    "name": "ipython",
    "version": 3
   },
   "file_extension": ".py",
   "mimetype": "text/x-python",
   "name": "python",
   "nbconvert_exporter": "python",
   "pygments_lexer": "ipython3",
   "version": "3.7.4"
  }
 },
 "nbformat": 4,
 "nbformat_minor": 2
}
