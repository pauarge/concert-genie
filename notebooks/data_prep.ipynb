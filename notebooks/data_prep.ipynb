{
 "cells": [
  {
   "cell_type": "code",
   "execution_count": null,
   "metadata": {},
   "outputs": [],
   "source": [
    "import requests\n",
    "import pandas as pd\n",
    "import networkx as nx\n",
    "import numpy as np\n",
    "\n",
    "import pandas as pd\n",
    "import numpy as np\n",
    "import spotipy\n",
    "import spotipy.util as util\n",
    "import spotipy.oauth2 as oauth2\n",
    "from spotipy.oauth2 import SpotifyClientCredentials #To access authorised Spotify data\n",
    "\n",
    "import time\n",
    "import random\n",
    "\n",
    "import matplotlib\n",
    "import matplotlib.pyplot as plt"
   ]
  },
  {
   "cell_type": "code",
   "execution_count": null,
   "metadata": {},
   "outputs": [],
   "source": [
    "ARTIST = \"Adele\""
   ]
  },
  {
   "cell_type": "markdown",
   "metadata": {},
   "source": [
    "### API keys and main parameters"
   ]
  },
  {
   "cell_type": "markdown",
   "metadata": {},
   "source": [
    "SetList.fm"
   ]
  },
  {
   "cell_type": "code",
   "execution_count": null,
   "metadata": {},
   "outputs": [],
   "source": [
    "API_KEY = \"ad30e075-cc83-41c3-8708-dfb5625a2330\"\n",
    "\n",
    "BASE_URL = \"https://api.setlist.fm/rest/1.0\"\n",
    "MIN_SETLIST_LEN = 5\n",
    "NUM_OF_PAGES = 6"
   ]
  },
  {
   "cell_type": "markdown",
   "metadata": {},
   "source": [
    "Spotify"
   ]
  },
  {
   "cell_type": "code",
   "execution_count": null,
   "metadata": {},
   "outputs": [],
   "source": [
    "client_id = '1f9afb3cf4f444d3b3a2f9d3bf20a4dc'\n",
    "client_secret = '12f145a677b54fe6b6b05c52dcbd433b'\n",
    "client_credentials_manager = SpotifyClientCredentials(client_id=client_id, client_secret=client_secret)\n",
    "sp = spotipy.Spotify(client_credentials_manager=client_credentials_manager) #spotify object to access API"
   ]
  },
  {
   "cell_type": "markdown",
   "metadata": {},
   "source": [
    "## SPOTIFY FUNCTIONS"
   ]
  },
  {
   "cell_type": "code",
   "execution_count": null,
   "metadata": {},
   "outputs": [],
   "source": [
    "def get_uri_song_art(song, artist):\n",
    "    for it in sp.search(song)['tracks']['items']:\n",
    "        if it['artists'][0]['name'].lower() == artist.lower():\n",
    "            return it['uri']\n",
    "    return None"
   ]
  },
  {
   "cell_type": "code",
   "execution_count": null,
   "metadata": {},
   "outputs": [],
   "source": [
    "def get_popularity_song_art(song, artist):\n",
    "    for it in sp.search(song)['tracks']['items']:\n",
    "        if it['artists'][0]['name'].lower() == artist.lower():\n",
    "            return it['popularity'], it['uri']\n",
    "    return 0, 0"
   ]
  },
  {
   "cell_type": "code",
   "execution_count": null,
   "metadata": {},
   "outputs": [],
   "source": [
    "get_popularity_song_art('hello','adele')"
   ]
  },
  {
   "cell_type": "code",
   "execution_count": null,
   "metadata": {},
   "outputs": [],
   "source": [
    "def get_artist_picture(NAME):\n",
    "    result = sp.search(NAME) #search query\n",
    "    #Extract Artist's uri\n",
    "    artist_uri = [x['uri'] for x in result['tracks']['items'][0]['artists'] if x['name'].lower() == NAME.lower()][0]\n",
    "    return sp.artist(artist_uri)['images'][0]['url']\n"
   ]
  },
  {
   "cell_type": "code",
   "execution_count": null,
   "metadata": {},
   "outputs": [],
   "source": [
    "get_artist_picture('The killers')"
   ]
  },
  {
   "cell_type": "code",
   "execution_count": null,
   "metadata": {},
   "outputs": [],
   "source": [
    "def get_albums_info(sp_albums):\n",
    "    album_names = []\n",
    "    album_uris = []\n",
    "    for i in range(len(sp_albums['items'])):\n",
    "        album_names.append(sp_albums['items'][i]['name'])\n",
    "        album_uris.append(sp_albums['items'][i]['uri'])\n",
    "    return album_names, album_uris"
   ]
  },
  {
   "cell_type": "code",
   "execution_count": null,
   "metadata": {},
   "outputs": [],
   "source": [
    "def albumSongs(uri, name, spotify_albums):\n",
    "    album = uri #assign album uri to a_name\n",
    "    spotify_albums[album] = {} #Creates dictionary for that specific album\n",
    "    #Create keys-values of empty lists inside nested dictionary for album\n",
    "    spotify_albums[album]['album'] = [] #create empty list\n",
    "    spotify_albums[album]['track_number'] = []\n",
    "    spotify_albums[album]['id'] = []\n",
    "    spotify_albums[album]['name'] = []\n",
    "    spotify_albums[album]['uri'] = []\n",
    "    tracks = sp.album_tracks(album) #pull data on album tracks\n",
    "    for n in range(len(tracks['items'])): #for each song track\n",
    "            spotify_albums[album]['album'].append(name) #append album name tracked via album_count\n",
    "            spotify_albums[album]['track_number'].append(tracks['items'][n]['track_number'])\n",
    "            spotify_albums[album]['id'].append(tracks['items'][n]['id'])\n",
    "            spotify_albums[album]['name'].append(tracks['items'][n]['name'])\n",
    "            spotify_albums[album]['uri'].append(tracks['items'][n]['uri'])\n",
    "    return spotify_albums"
   ]
  },
  {
   "cell_type": "code",
   "execution_count": null,
   "metadata": {},
   "outputs": [],
   "source": [
    "def get_artist_info(NAME):\n",
    "    result = sp.search(NAME) #search query\n",
    "    #Extract Artist's uri\n",
    "    artist_uri = [x['uri'] for x in result['tracks']['items'][0]['artists'] if x['name'].lower() == NAME.lower()][0]\n",
    "\n",
    "    #Pull all of the artist's albums\n",
    "    sp_albums = sp.artist_albums(artist_uri, album_type='album')\n",
    "    album_names, album_uris = get_albums_info(sp_albums)\n",
    "\n",
    "    spotify_albums = {}\n",
    "    album_count = 0\n",
    "    checked_albs = []\n",
    "    for i, name in zip(album_uris, album_names): #each album\n",
    "        if name not in checked_albs:\n",
    "            checked_albs.append(name)\n",
    "            spotify_albums = albumSongs(i, name, spotify_albums)\n",
    "            album_count+=1 #Updates album count once all tracks have been addedb\n",
    "  \n",
    "    return spotify_albums"
   ]
  },
  {
   "cell_type": "code",
   "execution_count": null,
   "metadata": {},
   "outputs": [],
   "source": [
    "def audio_features(album):\n",
    "    #Add new key-values to store audio features\n",
    "    album['popularity'] = []\n",
    "    #create a track counter\n",
    "    track_count = 0\n",
    "    for track in album['uri']:\n",
    "        #pull audio features per track\n",
    "        features = sp.audio_features(track)\n",
    "        pop = sp.track(track)\n",
    "        album['popularity'].append(pop['popularity'])\n",
    "        track_count+=1"
   ]
  },
  {
   "cell_type": "code",
   "execution_count": null,
   "metadata": {},
   "outputs": [],
   "source": [
    "def info_pd(spotify_albums):\n",
    "    sleep_min = 2\n",
    "    sleep_max = 5\n",
    "    start_time = time.time()\n",
    "    request_count = 0\n",
    "\n",
    "\n",
    "    for i in spotify_albums:\n",
    "        audio_features(spotify_albums[i])\n",
    "        request_count+=1\n",
    "        if request_count % 5 == 0:\n",
    "            print(str(request_count) + \" playlists completed\")\n",
    "            time.sleep(np.random.uniform(sleep_min, sleep_max))\n",
    "    dic_df = {}\n",
    "    dic_df['album'] = []\n",
    "    dic_df['track_number'] = []\n",
    "    dic_df['id'] = []\n",
    "    dic_df['name'] = []\n",
    "    dic_df['uri'] = []\n",
    "    dic_df['popularity'] = []\n",
    "    for album in spotify_albums: \n",
    "        for feature in dic_df.keys():\n",
    "            dic_df[feature].extend(spotify_albums[album][feature])\n",
    "\n",
    "    artist_df = pd.DataFrame.from_dict(dic_df)\n",
    "    artist_df['name'] = artist_df['name'].apply(lambda x: x.lower())\n",
    "    return artist_df"
   ]
  },
  {
   "cell_type": "code",
   "execution_count": null,
   "metadata": {},
   "outputs": [],
   "source": []
  },
  {
   "cell_type": "markdown",
   "metadata": {},
   "source": [
    "## CONCERT INFO FUNCTIONS"
   ]
  },
  {
   "cell_type": "code",
   "execution_count": null,
   "metadata": {},
   "outputs": [],
   "source": [
    "def get_setlist_songs(ARTIST, BASE_URL, API_KEY):\n",
    "    artist_url = \"{}/search/artists/?sort=relevance&artistName={}\".format(BASE_URL, ARTIST)\n",
    "    headers = {'x-api-key': API_KEY, 'Accept': 'application/json'}\n",
    "    r = requests.get(artist_url, headers=headers)\n",
    "    artists = r.json().get('artist')\n",
    "    artist = artists[0]\n",
    "    responses = []\n",
    "    for i in range(1, NUM_OF_PAGES): \n",
    "        playlist_url = \"{}/artist/{}/setlists/?p={}\".format(BASE_URL, artist.get('mbid'), i)\n",
    "        r = requests.get(playlist_url, headers=headers)\n",
    "        responses.append(r.json())\n",
    "\n",
    "        \n",
    "    responses_setlist = map(lambda x: x.get('setlist'), responses)\n",
    "    flattened_setlists = [item for sublist in responses_setlist for item in sublist if 'tour' in item.keys()]\n",
    "\n",
    "    cleaned_setlists = list(map(lambda x: {\n",
    "        'eventDate': x.get('eventDate'), \n",
    "        'songs': list(map(lambda z: z.get('name'), \\\n",
    "        [item for sublist in map(lambda y: y.get('song'), x.get('sets').get('set')) for item in sublist])) \\\n",
    "        , \n",
    "        'tour': x.get('tour').get('name'),\n",
    "        'country': x.get('venue').get('city').get('country').get('code')\n",
    "        }, flattened_setlists))\n",
    "    \n",
    "    cleaned_setlists = [x for x in cleaned_setlists if 'songs' in x.keys()]\n",
    "    cleaned_setlists = [x for x in cleaned_setlists if len(x['songs']) > 5]\n",
    "    only_songs = list(map(lambda x: [\"begin\"] + x.get('songs') + [\"end\"], cleaned_setlists))\n",
    "    \n",
    "    return cleaned_setlists, only_songs"
   ]
  },
  {
   "cell_type": "code",
   "execution_count": null,
   "metadata": {},
   "outputs": [],
   "source": [
    "def song_list_to_df(ARTIST, BASE_URL, API_KEY):\n",
    "    cleaned_list, songs = get_setlist_songs(ARTIST, BASE_URL, API_KEY)\n",
    "    pairs = []\n",
    "    for concert in cleaned_list:\n",
    "        setlist = concert['songs']\n",
    "        setlist = ['begin'] + setlist + ['end']\n",
    "        for i in range(len(setlist) - 1):\n",
    "            pairs.append((setlist[i], setlist[i+1], concert['tour'], concert['country'], concert['eventDate']))\n",
    "\n",
    "    df_pairs = pd.DataFrame(pairs)\n",
    "\n",
    "    df_pairs = df_pairs.rename(columns={0:'song_org', 1:'next_song', 2:'tour', 3:'country', 4:'date'})\n",
    "    the_tour = df_pairs.sort_values(by=['date']).iloc[0]['tour']\n",
    "    df_pairs2 = df_pairs[df_pairs.tour == the_tour]\n",
    "    \n",
    "    length_concert = df_pairs.groupby('date').count().median()['song_org']\n",
    "    b = df_pairs2.groupby('date').count()\n",
    "    dates = b[(b.song_org < length_concert + 2) & (b.song_org > length_concert - 2) ].index\n",
    "    \n",
    "    df_pairs2 = df_pairs2[df_pairs.date.isin(dates)].groupby(['song_org', 'next_song']).size().reset_index().rename(columns={0:'weight'})\n",
    "    \n",
    "    return df_pairs, df_pairs2"
   ]
  },
  {
   "cell_type": "markdown",
   "metadata": {},
   "source": [
    "### GET CONCERT INFO"
   ]
  },
  {
   "cell_type": "code",
   "execution_count": null,
   "metadata": {},
   "outputs": [],
   "source": [
    "info_complete"
   ]
  },
  {
   "cell_type": "code",
   "execution_count": null,
   "metadata": {},
   "outputs": [],
   "source": [
    "info_complete, df_pairs = song_list_to_df(ARTIST, BASE_URL, API_KEY)"
   ]
  },
  {
   "cell_type": "code",
   "execution_count": null,
   "metadata": {},
   "outputs": [],
   "source": [
    "def get_statistics(info_complete):\n",
    "    stats = {}\n",
    "    first_song = info_complete[info_complete.song_org == 'begin'].groupby('next_song').count().\\\n",
    "                sort_values(by=['song_org']).reset_index()\n",
    "    most_played = info_complete[['song_org', 'next_song']].groupby('next_song').count().\\\n",
    "                sort_values(by='song_org').reset_index()\n",
    "    \n",
    "    last_song = info_complete[info_complete.next_song == 'end'].groupby('song_org').count().\\\n",
    "                sort_values(by=['next_song']).reset_index()\n",
    "    stats['first_song'] = first_song.iloc[-1].next_song\n",
    "    stats['top_three'] = list(most_played[most_played['next_song'] != 'end'].iloc[-3:]['next_song'].unique()[::-1])\n",
    "    stats['most_played'] = most_played[most_played['next_song'] != 'end'].iloc[-1]['next_song']\n",
    "    stats['last_song'] = last_song.iloc[-1].song_org\n",
    "    \n",
    "    return stats\n",
    "    \n",
    "    "
   ]
  },
  {
   "cell_type": "code",
   "execution_count": null,
   "metadata": {},
   "outputs": [],
   "source": [
    "statistics = get_statistics(info_complete)"
   ]
  },
  {
   "cell_type": "code",
   "execution_count": null,
   "metadata": {},
   "outputs": [],
   "source": [
    "statistics"
   ]
  },
  {
   "cell_type": "markdown",
   "metadata": {},
   "source": [
    "### GET SPOTIFY INFO"
   ]
  },
  {
   "cell_type": "code",
   "execution_count": null,
   "metadata": {},
   "outputs": [],
   "source": [
    "spotify_albums = get_artist_info(ARTIST)\n",
    "pd_artist = info_pd(spotify_albums)"
   ]
  },
  {
   "cell_type": "code",
   "execution_count": null,
   "metadata": {},
   "outputs": [],
   "source": [
    "pd_artist"
   ]
  },
  {
   "cell_type": "code",
   "execution_count": null,
   "metadata": {},
   "outputs": [],
   "source": [
    "length_concert = info_complete.groupby('date').count().median()['song_org']"
   ]
  },
  {
   "cell_type": "markdown",
   "metadata": {},
   "source": [
    "## CREATE GRAPH AND GET PLAYLIST"
   ]
  },
  {
   "cell_type": "code",
   "execution_count": null,
   "metadata": {},
   "outputs": [],
   "source": [
    "G = nx.from_pandas_edgelist(df_pairs, 'song_org', 'next_song', ['weight'], create_using=nx.DiGraph())"
   ]
  },
  {
   "cell_type": "code",
   "execution_count": null,
   "metadata": {},
   "outputs": [],
   "source": [
    "def get_playlist(G, source='begin', target='end'):\n",
    "    visited = []\n",
    "    cur = source\n",
    "\n",
    "    while cur != target:\n",
    "        visited.append(cur)\n",
    "        weights = []\n",
    "        neighs = []\n",
    "        for n in G.neighbors(cur):\n",
    "            if n not in visited:\n",
    "                weights.append(np.exp(G.get_edge_data(cur, n).get('weight')))\n",
    "                neighs.append(n)\n",
    "        weights = np.asarray(weights)/sum(weights)\n",
    "        if len(weights) == 0:\n",
    "            cur = target\n",
    "        else:\n",
    "            cur = np.random.choice(neighs, 1,\n",
    "                      p=weights)[0]\n",
    "        \n",
    "    return visited"
   ]
  },
  {
   "cell_type": "code",
   "execution_count": null,
   "metadata": {},
   "outputs": [],
   "source": [
    "playlist_go = get_playlist(G)"
   ]
  },
  {
   "cell_type": "code",
   "execution_count": null,
   "metadata": {},
   "outputs": [],
   "source": [
    "playlist_go"
   ]
  },
  {
   "cell_type": "markdown",
   "metadata": {},
   "source": [
    "## VISUALIZE RESULTS"
   ]
  },
  {
   "cell_type": "code",
   "execution_count": null,
   "metadata": {},
   "outputs": [],
   "source": [
    "all_weights = []\n",
    "\n",
    "f, ax = plt.subplots(figsize=(20,20))\n",
    "pos=nx.circular_layout(G)\n",
    "pos_higher = {}\n",
    "for k, v in pos.items():\n",
    "    pos_higher[k] = (v[0]*1.1, v[1]*1.1)\n",
    "    \n",
    "nx.draw_networkx_nodes(G.nodes, pos=pos)\n",
    "nx.draw_networkx_labels(G, pos=pos_higher)\n",
    "colors = ['r', 'b', 'y']\n",
    "edges_1 = []\n",
    "edges_2 = []\n",
    "for i in range(len(playlist_go) - 1):\n",
    "    edges_1.append((playlist_go[i], playlist_go[i+1]))\n",
    "\n",
    "for (node1,node2,data) in G.edges(data=True):\n",
    "    all_weights.append(data['weight'])\n",
    "\n",
    "unique_weights = list(set(all_weights))\n",
    "\n",
    "for weight in unique_weights:\n",
    "    #4 d. Form a filtered list with just the weight you want to draw\n",
    "    weighted_edges = [(node1,node2) for (node1,node2,edge_attr) in G.edges(data=True) if edge_attr['weight']==weight]\n",
    "    width = weight*0.1\n",
    "    nx.draw_networkx_edges(G,pos,edgelist=weighted_edges,width=width, edge_color='k', ax=ax)\n",
    "    \n",
    "\n",
    "for ctr, edges_l in enumerate([edges_1]):\n",
    "    nx.draw_networkx_edges(G,pos=pos, edgelist=edges_l, edge_color = colors[ctr], style='dashed', ax=ax, width=4, alpha=0.5)\n",
    "\n",
    "\n",
    "#plt.savefig('graph_song_{}'.format(ARTIST),bbox_inches = 'tight',\n",
    "#    pad_inches = 0)"
   ]
  },
  {
   "cell_type": "code",
   "execution_count": null,
   "metadata": {},
   "outputs": [],
   "source": [
    "from bokeh.io import show, output_file\n",
    "from bokeh.models import Plot, Range1d, MultiLine, Circle, HoverTool, BoxZoomTool, ResetTool, ColumnDataSource, LabelSet\n",
    "from bokeh.models.graphs import from_networkx, NodesAndLinkedEdges, EdgesAndLinkedNodes\n",
    "from bokeh.palettes import Spectral4\n"
   ]
  },
  {
   "cell_type": "code",
   "execution_count": null,
   "metadata": {},
   "outputs": [],
   "source": [
    "for n in G.nodes:\n",
    "    "
   ]
  },
  {
   "cell_type": "code",
   "execution_count": null,
   "metadata": {},
   "outputs": [],
   "source": [
    "edge_attrs_width = {}\n",
    "edge_attrs_color = {}\n",
    "\n",
    "edges_1 = []\n",
    "for i in range(len(playlist_go) - 1):\n",
    "    edges_1.append((playlist_go[i], playlist_go[i+1]))\n",
    "    \n",
    "    \n",
    "for start_node, end_node, data in G.edges(data=True):\n",
    "    edge_attrs_width[(start_node, end_node)] = data['weight']*0.1\n",
    "    edge_attrs_color[(start_node, end_node)] = \"#ee1010\" if (start_node, end_node) in edges_1 else \"#CCCCCC\"\n",
    "\n",
    "nx.set_edge_attributes(G, edge_attrs_width, \"edge_width\")\n",
    "nx.set_edge_attributes(G, edge_attrs_color, \"edge_color\")\n",
    "\n",
    "x, y = zip(*graph_renderer.layout_provider.graph_layout.values())\n",
    "node_labels = [n for n in G.nodes]\n",
    "source = ColumnDataSource({'x': np.asarray(x)*1.4 - 0.2, 'y': np.asarray(y)*1.3,\n",
    "                           'name': [node_labels[i] for i in range(len(x))], \n",
    "                          'ft':[5 for i in range(len(x))]})\n",
    "\n",
    "\n",
    "plot = figure(x_range=(-2,2), y_range=(-2,2), plot_width=800, plot_height=800,\n",
    "              tools=\"\", toolbar_location=None)\n",
    "\n",
    "node_hover_tool = HoverTool(tooltips=[(\"Song\", \"@name\")])\n",
    "plot.add_tools(node_hover_tool, ResetTool(), TapTool())\n",
    "\n",
    "graph_renderer = from_networkx(G, nx.circular_layout, scale=1, center=(0,0))\n",
    "\n",
    "\n",
    "graph_renderer.node_renderer.glyph = Circle(size=10, fill_color=\"#CCCCCC\", name='name')\n",
    "graph_renderer.node_renderer.selection_glyph = Circle(size=10, fill_color=Spectral4[2])\n",
    "graph_renderer.node_renderer.hover_glyph = Circle(size=10, fill_color=Spectral4[1], name='name')\n",
    "\n",
    "\n",
    "graph_renderer.edge_renderer.glyph = MultiLine(line_color=\"edge_color\", line_alpha=0.8, line_width=\"edge_width\")\n",
    "graph_renderer.edge_renderer.selection_glyph = MultiLine(line_color=Spectral4[2], line_width=\"edge_width\")\n",
    "graph_renderer.edge_renderer.hover_glyph = MultiLine(line_color=Spectral4[1], line_width=\"edge_width\")\n",
    "\n",
    "graph_renderer.selection_policy = NodesAndLinkedEdges()\n",
    "graph_renderer.inspection_policy = EdgesAndLinkedNodes()\n",
    "\n",
    "\n",
    "plot.renderers.append(graph_renderer)\n",
    "plot.xgrid.visible = False\n",
    "plot.ygrid.visible = False\n",
    "\n",
    "plot.xaxis.visible = False\n",
    "plot.yaxis.visible = False\n",
    "\n",
    "labels = LabelSet(x='x', y='y', text='name', source=source)\n",
    "\n",
    "plot.renderers.append(labels)\n",
    "\n",
    "output_file(\"interactive_graphs.html\")\n",
    "show(plot)"
   ]
  },
  {
   "cell_type": "code",
   "execution_count": null,
   "metadata": {},
   "outputs": [],
   "source": [
    "#start Bokeh code\n",
    "edges_1 = []\n",
    "for i in range(len(playlist_go) - 1):\n",
    "    edges_1.append((playlist_go[i], playlist_go[i+1]))\n",
    "    \n",
    "layout = nx.circular_layout(G)\n",
    "nodes, nodes_coordinates = zip(*sorted(layout.items()))\n",
    "nodes_xs, nodes_ys = list(zip(*nodes_coordinates))\n",
    "nodes_source = ColumnDataSource(dict(x=nodes_xs, y=nodes_ys,name=nodes)) #Can this pass the color? \n",
    "\n",
    "hover = HoverTool(tooltips=[('name', '@name')]) #would like to know how to add in more values here manually\n",
    "\n",
    "plot = figure(plot_width=800, plot_height=800,tools=['tap', hover, 'box_zoom', 'reset'], toolbar_location=None)\n",
    "\n",
    "r_circles = plot.circle('x', 'y', source=nodes_source, size=10, color='#CCCCCC', level = 'overlay')#this function sets the color of the nodes, but how to set based on the name of the node? \n",
    "\n",
    "\n",
    "def get_edges_specs(_network, _layout): \n",
    "    d = dict(xs=[], ys=[], alphas=[], colors=[], name=[], width=[])\n",
    "    weights = [d['weight'] for u, v, d in _network.edges(data=True)]\n",
    "    max_weight = max(weights)\n",
    "    calc_alpha = lambda h: 0.1 + 0.6 * (h / max_weight)\n",
    "\n",
    "    for u, v, data in _network.edges(data=True):\n",
    "        d['xs'].append([_layout[u][0], _layout[v][0]])\n",
    "        d['ys'].append([_layout[u][1], _layout[v][1]])\n",
    "        d['alphas'].append(calc_alpha(data['weight']))\n",
    "        d['colors'].append([\"#ee1010\" if (u, v) in edges_1 else \"#CCCCCC\"])\n",
    "        d['width'].append(data['weight']*0.1)\n",
    "        d['name'].append([(u,v)])\n",
    "    return d\n",
    "\n",
    "lines_source = ColumnDataSource(get_edges_specs(G, layout))\n",
    "\n",
    "r_lines = plot.multi_line('xs', 'ys', line_width='width',\n",
    "                      alpha='alphas', color='colors',\n",
    "                      source=lines_source)#This function sets the color of the edges\n",
    "\n",
    "plot.xgrid.visible = False\n",
    "plot.ygrid.visible = False\n",
    "\n",
    "plot.xaxis.visible = False\n",
    "plot.yaxis.visible = False\n",
    "\n",
    "output_file(\"interactive_graphs.html\")\n",
    "show(plot)"
   ]
  },
  {
   "cell_type": "code",
   "execution_count": null,
   "metadata": {},
   "outputs": [],
   "source": []
  }
 ],
 "metadata": {
  "kernelspec": {
   "display_name": "Python [conda env:ada] *",
   "language": "python",
   "name": "conda-env-ada-py"
  },
  "language_info": {
   "codemirror_mode": {
    "name": "ipython",
    "version": 3
   },
   "file_extension": ".py",
   "mimetype": "text/x-python",
   "name": "python",
   "nbconvert_exporter": "python",
   "pygments_lexer": "ipython3",
   "version": "3.7.4"
  }
 },
 "nbformat": 4,
 "nbformat_minor": 2
}
