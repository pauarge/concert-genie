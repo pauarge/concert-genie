{
 "cells": [
  {
   "cell_type": "code",
   "execution_count": null,
   "metadata": {},
   "outputs": [],
   "source": [
    "import requests\n",
    "import pandas as pd\n",
    "import networkx as nx\n",
    "import numpy as np\n",
    "\n",
    "import pandas as pd\n",
    "import numpy as np\n",
    "import spotipy\n",
    "import spotipy.util as util\n",
    "import spotipy.oauth2 as oauth2\n",
    "from spotipy.oauth2 import SpotifyClientCredentials #To access authorised Spotify data\n",
    "\n",
    "import time"
   ]
  },
  {
   "cell_type": "code",
   "execution_count": null,
   "metadata": {},
   "outputs": [],
   "source": [
    "ARTIST = \"mumford and sons\""
   ]
  },
  {
   "cell_type": "markdown",
   "metadata": {},
   "source": [
    "### API keys and main parameters"
   ]
  },
  {
   "cell_type": "markdown",
   "metadata": {},
   "source": [
    "SetList.fm"
   ]
  },
  {
   "cell_type": "code",
   "execution_count": null,
   "metadata": {},
   "outputs": [],
   "source": [
    "API_KEY = \"ad30e075-cc83-41c3-8708-dfb5625a2330\"\n",
    "\n",
    "BASE_URL = \"https://api.setlist.fm/rest/1.0\"\n",
    "MIN_SETLIST_LEN = 5\n",
    "NUM_OF_PAGES = 6"
   ]
  },
  {
   "cell_type": "markdown",
   "metadata": {},
   "source": [
    "Spotify"
   ]
  },
  {
   "cell_type": "code",
   "execution_count": null,
   "metadata": {},
   "outputs": [],
   "source": [
    "client_id = '1f9afb3cf4f444d3b3a2f9d3bf20a4dc'\n",
    "client_secret = '12f145a677b54fe6b6b05c52dcbd433b'\n",
    "client_credentials_manager = SpotifyClientCredentials(client_id=client_id, client_secret=client_secret)\n",
    "sp = spotipy.Spotify(client_credentials_manager=client_credentials_manager) #spotify object to access API"
   ]
  },
  {
   "cell_type": "code",
   "execution_count": null,
   "metadata": {},
   "outputs": [],
   "source": [
    "def get_albums_info(sp_albums):\n",
    "    album_names = []\n",
    "    album_uris = []\n",
    "    for i in range(len(sp_albums['items'])):\n",
    "        album_names.append(sp_albums['items'][i]['name'])\n",
    "        album_uris.append(sp_albums['items'][i]['uri'])\n",
    "    return album_names, album_uris"
   ]
  },
  {
   "cell_type": "code",
   "execution_count": null,
   "metadata": {},
   "outputs": [],
   "source": [
    "def albumSongs(uri, name, spotify_albums):\n",
    "    album = uri #assign album uri to a_name\n",
    "    spotify_albums[album] = {} #Creates dictionary for that specific album\n",
    "    #Create keys-values of empty lists inside nested dictionary for album\n",
    "    spotify_albums[album]['album'] = [] #create empty list\n",
    "    spotify_albums[album]['track_number'] = []\n",
    "    spotify_albums[album]['id'] = []\n",
    "    spotify_albums[album]['name'] = []\n",
    "    spotify_albums[album]['uri'] = []\n",
    "    tracks = sp.album_tracks(album) #pull data on album tracks\n",
    "    for n in range(len(tracks['items'])): #for each song track\n",
    "            spotify_albums[album]['album'].append(name) #append album name tracked via album_count\n",
    "            spotify_albums[album]['track_number'].append(tracks['items'][n]['track_number'])\n",
    "            spotify_albums[album]['id'].append(tracks['items'][n]['id'])\n",
    "            spotify_albums[album]['name'].append(tracks['items'][n]['name'])\n",
    "            spotify_albums[album]['uri'].append(tracks['items'][n]['uri'])\n",
    "    return spotify_albums"
   ]
  },
  {
   "cell_type": "code",
   "execution_count": null,
   "metadata": {},
   "outputs": [],
   "source": [
    "def get_artist_info(NAME):\n",
    "    result = sp.search(NAME) #search query\n",
    "    result['tracks']['items'][0]['artists']\n",
    "\n",
    "    #Extract Artist's uri\n",
    "    artist_uri = result['tracks']['items'][0]['artists'][0]['uri']\n",
    "\n",
    "    #Pull all of the artist's albums\n",
    "    sp_albums = sp.artist_albums(artist_uri, album_type='album')\n",
    "    album_names, album_uris = get_albums_info(sp_albums)\n",
    "\n",
    "    spotify_albums = {}\n",
    "    album_count = 0\n",
    "    checked_albs = []\n",
    "    for i, name in zip(album_uris, album_names): #each album\n",
    "        if name not in checked_albs:\n",
    "            checked_albs.append(name)\n",
    "            spotify_albums = albumSongs(i, name, spotify_albums)\n",
    "            album_count+=1 #Updates album count once all tracks have been addedb\n",
    "  \n",
    "    return spotify_albums"
   ]
  },
  {
   "cell_type": "code",
   "execution_count": null,
   "metadata": {},
   "outputs": [],
   "source": [
    "def audio_features(album):\n",
    "    #Add new key-values to store audio features\n",
    "    spotify_albums[album]['popularity'] = []\n",
    "    #create a track counter\n",
    "    track_count = 0\n",
    "    for track in spotify_albums[album]['uri']:\n",
    "        #pull audio features per track\n",
    "        features = sp.audio_features(track)\n",
    "        pop = sp.track(track)\n",
    "        spotify_albums[album]['popularity'].append(pop['popularity'])\n",
    "        track_count+=1"
   ]
  },
  {
   "cell_type": "code",
   "execution_count": null,
   "metadata": {},
   "outputs": [],
   "source": [
    "def info_pd(spotify_albums):\n",
    "    sleep_min = 2\n",
    "    sleep_max = 3\n",
    "    start_time = time.time()\n",
    "    request_count = 0\n",
    "\n",
    "\n",
    "    for i in spotify_albums:\n",
    "        audio_features(i)\n",
    "        request_count+=1\n",
    "        if request_count % 5 == 0:\n",
    "            print(str(request_count) + \" playlists completed\")\n",
    "            time.sleep(np.random.uniform(sleep_min, sleep_max))\n",
    "    dic_df = {}\n",
    "    dic_df['album'] = []\n",
    "    dic_df['track_number'] = []\n",
    "    dic_df['id'] = []\n",
    "    dic_df['name'] = []\n",
    "    dic_df['uri'] = []\n",
    "    dic_df['popularity'] = []\n",
    "    for album in spotify_albums: \n",
    "        for feature in dic_df.keys():\n",
    "            dic_df[feature].extend(spotify_albums[album][feature])\n",
    "\n",
    "    return pd.DataFrame.from_dict(dic_df)"
   ]
  },
  {
   "cell_type": "code",
   "execution_count": null,
   "metadata": {},
   "outputs": [],
   "source": []
  },
  {
   "cell_type": "code",
   "execution_count": null,
   "metadata": {},
   "outputs": [],
   "source": [
    "def get_setlist_songs(ARTIST, BASE_URL, API_KEY):\n",
    "    artist_url = \"{}/search/artists/?sort=relevance&artistName={}\".format(BASE_URL, ARTIST)\n",
    "    headers = {'x-api-key': API_KEY, 'Accept': 'application/json'}\n",
    "    r = requests.get(artist_url, headers=headers)\n",
    "    artists = r.json().get('artist')\n",
    "    artist = artists[0]\n",
    "    \n",
    "    responses = []\n",
    "    for i in range(1, NUM_OF_PAGES): \n",
    "        playlist_url = \"{}/artist/{}/setlists/?p={}\".format(BASE_URL, artist.get('mbid'), i)\n",
    "        r = requests.get(playlist_url, headers=headers)\n",
    "        responses.append(r.json())\n",
    "        \n",
    "    responses_setlist = map(lambda x: x.get('setlist'), responses)\n",
    "    flattened_setlists = [item for sublist in responses_setlist for item in sublist]\n",
    "    cleaned_setlists = list(map(lambda x: {\n",
    "        'eventDate': x.get('eventDate'), \n",
    "        'songs': list(map(lambda z: z.get('name'), [item for sublist in map(lambda y: y.get('song'), x.get('sets').get('set')) for item in sublist])), \n",
    "        'tour': x.get('tour').get('name'),\n",
    "        'country': x.get('venue').get('city').get('country').get('code')\n",
    "        }, flattened_setlists))\n",
    "    only_songs = list(map(lambda x: [\"begin\"] + x.get('songs') + [\"end\"], cleaned_setlists))\n",
    "    \n",
    "    return only_songs"
   ]
  },
  {
   "cell_type": "code",
   "execution_count": null,
   "metadata": {},
   "outputs": [],
   "source": [
    "def song_list_to_df(ARTIST, BASE_URL, API_KEY):\n",
    "    songs = get_setlist_songs(ARTIST, BASE_URL, API_KEY)\n",
    "    pairs = []\n",
    "    for setlist in songs:\n",
    "        for i in range(0, len(setlist) - 1):\n",
    "            pairs.append((setlist[i], setlist[i+1]))\n",
    "\n",
    "    df_pairs = pd.DataFrame(pairs)\n",
    "\n",
    "    df_pairs = df_pairs.rename(columns={0:'song_org', 1:'next_song'})\n",
    "    df_pairs = df_pairs.groupby(['song_org', 'next_song']).size().reset_index().rename(columns={0:'weight'})\n",
    "    \n",
    "    return df_pairs"
   ]
  },
  {
   "cell_type": "code",
   "execution_count": null,
   "metadata": {},
   "outputs": [],
   "source": [
    "df_pairs = song_list_to_df(ARTIST, BASE_URL, API_KEY)"
   ]
  },
  {
   "cell_type": "code",
   "execution_count": null,
   "metadata": {},
   "outputs": [],
   "source": [
    "df_pairs.head()"
   ]
  },
  {
   "cell_type": "code",
   "execution_count": null,
   "metadata": {},
   "outputs": [],
   "source": [
    "spotify_albums = get_artist_info(ARTIST)\n",
    "pd_artist = info_pd(spotify_albums)"
   ]
  },
  {
   "cell_type": "code",
   "execution_count": null,
   "metadata": {},
   "outputs": [],
   "source": [
    "pd_artist[(pd_artist.album == 'Delta') & (pd_artist.name == 'Delta')]"
   ]
  },
  {
   "cell_type": "code",
   "execution_count": null,
   "metadata": {},
   "outputs": [],
   "source": []
  }
 ],
 "metadata": {
  "kernelspec": {
   "display_name": "Python [conda env:ada] *",
   "language": "python",
   "name": "conda-env-ada-py"
  },
  "language_info": {
   "codemirror_mode": {
    "name": "ipython",
    "version": 3
   },
   "file_extension": ".py",
   "mimetype": "text/x-python",
   "name": "python",
   "nbconvert_exporter": "python",
   "pygments_lexer": "ipython3",
   "version": "3.7.4"
  }
 },
 "nbformat": 4,
 "nbformat_minor": 2
}
