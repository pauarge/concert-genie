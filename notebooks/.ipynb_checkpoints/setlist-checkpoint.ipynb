{
 "cells": [
  {
   "cell_type": "code",
   "execution_count": 0,
   "metadata": {
    "colab": {},
    "colab_type": "code",
    "id": "geGj8ryR7uAm"
   },
   "outputs": [],
   "source": [
    "import requests\n",
    "import pandas as pd\n",
    "import networkx as nx\n",
    "\n",
    "from collections import Counter"
   ]
  },
  {
   "cell_type": "code",
   "execution_count": 0,
   "metadata": {
    "colab": {},
    "colab_type": "code",
    "id": "T3ASidJPE_nO"
   },
   "outputs": [],
   "source": [
    "API_KEY = \"ad30e075-cc83-41c3-8708-dfb5625a2330\"\n",
    "ARTIST = \"mumford and sons\"\n",
    "BASE_URL = \"https://api.setlist.fm/rest/1.0\"\n",
    "MIN_SETLIST_LEN = 5\n",
    "NUM_OF_PAGES = 6"
   ]
  },
  {
   "cell_type": "code",
   "execution_count": 0,
   "metadata": {
    "colab": {},
    "colab_type": "code",
    "id": "8iUDLQUXFfy4"
   },
   "outputs": [],
   "source": [
    "artist_url = \"{}/search/artists/?sort=relevance&artistName={}\".format(BASE_URL, ARTIST)\n",
    "headers = {'x-api-key': API_KEY, 'Accept': 'application/json'}\n",
    "r = requests.get(artist_url, headers=headers)\n",
    "artists = r.json().get('artist')\n",
    "artist = artists[0]"
   ]
  },
  {
   "cell_type": "code",
   "execution_count": 0,
   "metadata": {
    "colab": {},
    "colab_type": "code",
    "id": "7V8jRnALF1CS"
   },
   "outputs": [],
   "source": [
    "responses = []\n",
    "for i in range(1, NUM_OF_PAGES): \n",
    "  playlist_url = \"{}/artist/{}/setlists/?p={}\".format(BASE_URL, artist.get('mbid'), i)\n",
    "  r = requests.get(playlist_url, headers=headers)\n",
    "  responses.append(r.json())"
   ]
  },
  {
   "cell_type": "code",
   "execution_count": 0,
   "metadata": {
    "colab": {},
    "colab_type": "code",
    "id": "2mkaRjJhNlMz"
   },
   "outputs": [],
   "source": [
    "responses_setlist = map(lambda x: x.get('setlist'), responses)\n",
    "flattened_setlists = [item for sublist in responses_setlist for item in sublist]\n",
    "cleaned_setlists = list(map(lambda x: {\n",
    "    'eventDate': x.get('eventDate'), \n",
    "    'songs': list(map(lambda z: z.get('name'), [item for sublist in map(lambda y: y.get('song'), x.get('sets').get('set')) for item in sublist])), \n",
    "    'tour': x.get('tour').get('name'),\n",
    "    'country': x.get('venue').get('city').get('country').get('code')\n",
    "    }, flattened_setlists))\n",
    "only_songs = list(map(lambda x: [\"begin\"] + x.get('songs') + [\"end\"], cleaned_setlists))"
   ]
  },
  {
   "cell_type": "code",
   "execution_count": 0,
   "metadata": {
    "colab": {},
    "colab_type": "code",
    "id": "5Dps0-MRONLg"
   },
   "outputs": [],
   "source": [
    "pairs = []\n",
    "for setlist in only_songs:\n",
    "  for i in range(0, len(setlist) - 1):\n",
    "    pairs.append((setlist[i], setlist[i+1]))\n",
    "\n",
    "df_pairs = pd.DataFrame(pairs)"
   ]
  },
  {
   "cell_type": "code",
   "execution_count": 0,
   "metadata": {
    "colab": {},
    "colab_type": "code",
    "id": "2dZ0Gz_ab2_3"
   },
   "outputs": [],
   "source": [
    "df_pairs = df_pairs.rename(columns={0:'song_org', 1:'next_song'})\n",
    "df_pairs = df_pairs.groupby(['song_org', 'next_song']).size().reset_index().rename(columns={0:'weight'})"
   ]
  },
  {
   "cell_type": "code",
   "execution_count": 0,
   "metadata": {
    "colab": {},
    "colab_type": "code",
    "id": "2uMXbnfViCmS"
   },
   "outputs": [],
   "source": [
    "G = nx.from_pandas_edgelist(df_pairs, 'song_org', 'next_song', ['weight'], create_using=nx.DiGraph())"
   ]
  },
  {
   "cell_type": "code",
   "execution_count": 0,
   "metadata": {
    "colab": {
     "base_uri": "https://localhost:8080/",
     "height": 364
    },
    "colab_type": "code",
    "id": "ooQzxPgbjJ_Z",
    "outputId": "ddb405b0-8988-43c7-c7d3-7a98ea7ad891"
   },
   "outputs": [
    {
     "name": "stdout",
     "output_type": "stream",
     "text": [
      "Guiding Light\n",
      "Little Lion Man\n",
      "Holland Road\n",
      "The Cave\n",
      "Beloved\n",
      "Lover of the Light\n",
      "Tompkins Square Park\n",
      "Believe\n",
      "Ditmas\n",
      "Slip Away\n",
      "Picture You\n",
      "Darkness Visible\n",
      "The Wolf\n",
      "Timshel\n",
      "Forever\n",
      "Blood\n",
      "Awake My Soul\n",
      "I Will Wait\n",
      "Delta\n",
      "end\n"
     ]
    }
   ],
   "source": [
    "visited = []\n",
    "cur = 'begin'\n",
    "\n",
    "while cur != 'end':\n",
    "  visited.append(cur)\n",
    "  max_n = None\n",
    "  for n in G.neighbors(cur):\n",
    "    w = G.get_edge_data(cur, n).get('weight')\n",
    "    if not max_n or (max_n[1] < w and n not in visited):\n",
    "      max_n = (n, w)\n",
    "  cur = max_n[0]\n",
    "  print(cur) "
   ]
  },
  {
   "cell_type": "code",
   "execution_count": 0,
   "metadata": {
    "colab": {},
    "colab_type": "code",
    "id": "QRyGtassjbUZ"
   },
   "outputs": [],
   "source": []
  }
 ],
 "metadata": {
  "colab": {
   "collapsed_sections": [],
   "name": "setlist.ipynb",
   "provenance": []
  },
  "kernelspec": {
   "display_name": "Python 3",
   "language": "python",
   "name": "python3"
  },
  "language_info": {
   "codemirror_mode": {
    "name": "ipython",
    "version": 3
   },
   "file_extension": ".py",
   "mimetype": "text/x-python",
   "name": "python",
   "nbconvert_exporter": "python",
   "pygments_lexer": "ipython3",
   "version": "3.7.4"
  }
 },
 "nbformat": 4,
 "nbformat_minor": 1
}
